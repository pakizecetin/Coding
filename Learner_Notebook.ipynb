{
 "cells": [
  {
   "cell_type": "markdown",
   "metadata": {},
   "source": [
    "<h2 align=center>Exploratory Data Analysis With Python and Pandas</h2>\n",
    "<img src=\"logo.png\">"
   ]
  },
  {
   "cell_type": "markdown",
   "metadata": {
    "heading_collapsed": true
   },
   "source": [
    "### Libraries"
   ]
  },
  {
   "cell_type": "code",
   "execution_count": 1,
   "metadata": {
    "hidden": true
   },
   "outputs": [
    {
     "name": "stderr",
     "output_type": "stream",
     "text": [
      "c:\\Users\\Pakize\\AppData\\Local\\Programs\\Python\\Python310\\lib\\site-packages\\tqdm\\auto.py:22: TqdmWarning: IProgress not found. Please update jupyter and ipywidgets. See https://ipywidgets.readthedocs.io/en/stable/user_install.html\n",
      "  from .autonotebook import tqdm as notebook_tqdm\n"
     ]
    }
   ],
   "source": [
    "import pandas as pd\n",
    "import numpy as np\n",
    "import matplotlib.pyplot as plt\n",
    "import seaborn as sns\n",
    "import calmap\n",
    "from pandas_profiling import ProfileReport\n",
    "iRqH6k\n"
   ]
  },
  {
   "cell_type": "markdown",
   "metadata": {},
   "source": [
    "Link to data source: https://www.kaggle.com/aungpyaeap/supermarket-sales\n",
    "\n",
    "**Context**\n",
    "\n",
    "The growth of supermarkets in most populated cities are increasing and market competitions are also high. The dataset is one of the historical sales of supermarket company which has recorded in 3 different branches for 3 months data.\n",
    "\n",
    "**Data Dictionary**\n",
    "\n",
    "1. ***Invoice id:*** Computer generated sales slip invoice identification number\n",
    "\n",
    "2. ***Branch:*** Branch of supercenter (3 branches are available identified by A, B and C).\n",
    "\n",
    "3. ***City:*** Location of supercenters\n",
    "\n",
    "4. ***Customer type:*** Type of customers, recorded by Members for customers using member card and Normal for without member card.\n",
    "\n",
    "5. ***Gender:*** Gender type of customer\n",
    "\n",
    "6. ***Product line:*** General item categorization groups - Electronic accessories, Fashion accessories, Food and beverages, Health and beauty, Home and lifestyle, Sports and travel\n",
    "\n",
    "7. ***Unit price:*** Price of each product in USD\n",
    "\n",
    "8. ***Quantity:*** Number of products purchased by customer\n",
    "\n",
    "9. ***Tax:*** 5% tax fee for customer buying\n",
    "\n",
    "10. ***Total:*** Total price including tax\n",
    "\n",
    "11. ***Date:*** Date of purchase (Record available from January 2019 to March 2019)\n",
    "\n",
    "12. ***Time:*** Purchase time (10am to 9pm)\n",
    "\n",
    "13. ***Payment:*** Payment used by customer for purchase (3 methods are available – Cash, Credit card and Ewallet)\n",
    "\n",
    "14. ***COGS:*** Cost of goods sold\n",
    "\n",
    "15. ***Gross margin percentage:*** Gross margin percentage\n",
    "\n",
    "16. ***Gross income:*** Gross income\n",
    "\n",
    "17. ***Rating:*** Customer stratification rating on their overall shopping experience (On a scale of 1 to 10)"
   ]
  },
  {
   "cell_type": "markdown",
   "metadata": {},
   "source": [
    "### Task 1: Initial Data Exploration"
   ]
  },
  {
   "cell_type": "code",
   "execution_count": 2,
   "metadata": {},
   "outputs": [],
   "source": [
    "df = pd.read_csv('supermarket_sales.csv')"
   ]
  },
  {
   "cell_type": "code",
   "execution_count": 9,
   "metadata": {},
   "outputs": [
    {
     "data": {
      "text/html": [
       "<div>\n",
       "<style scoped>\n",
       "    .dataframe tbody tr th:only-of-type {\n",
       "        vertical-align: middle;\n",
       "    }\n",
       "\n",
       "    .dataframe tbody tr th {\n",
       "        vertical-align: top;\n",
       "    }\n",
       "\n",
       "    .dataframe thead th {\n",
       "        text-align: right;\n",
       "    }\n",
       "</style>\n",
       "<table border=\"1\" class=\"dataframe\">\n",
       "  <thead>\n",
       "    <tr style=\"text-align: right;\">\n",
       "      <th></th>\n",
       "      <th>149-71-6266</th>\n",
       "      <th>B</th>\n",
       "      <th>Mandalay</th>\n",
       "      <th>Member</th>\n",
       "      <th>Male</th>\n",
       "      <th>Sports and travel</th>\n",
       "      <th>78.07</th>\n",
       "      <th>9</th>\n",
       "      <th>35.1315</th>\n",
       "      <th>737.7615</th>\n",
       "      <th>1/28/19</th>\n",
       "      <th>12:43</th>\n",
       "      <th>Cash</th>\n",
       "      <th>702.63</th>\n",
       "      <th>4.761904762</th>\n",
       "      <th>35.1315.1</th>\n",
       "      <th>4.5</th>\n",
       "    </tr>\n",
       "  </thead>\n",
       "  <tbody>\n",
       "    <tr>\n",
       "      <th>0</th>\n",
       "      <td>640-49-2076</td>\n",
       "      <td>B</td>\n",
       "      <td>Mandalay</td>\n",
       "      <td>Normal</td>\n",
       "      <td>Male</td>\n",
       "      <td>Sports and travel</td>\n",
       "      <td>83.78</td>\n",
       "      <td>8.0</td>\n",
       "      <td>33.512</td>\n",
       "      <td>703.752</td>\n",
       "      <td>1/10/19</td>\n",
       "      <td>14:49</td>\n",
       "      <td>Cash</td>\n",
       "      <td>670.24</td>\n",
       "      <td>4.761905</td>\n",
       "      <td>33.512</td>\n",
       "      <td>5.1</td>\n",
       "    </tr>\n",
       "    <tr>\n",
       "      <th>1</th>\n",
       "      <td>595-11-5460</td>\n",
       "      <td>A</td>\n",
       "      <td>Yangon</td>\n",
       "      <td>NaN</td>\n",
       "      <td>Male</td>\n",
       "      <td>Health and beauty</td>\n",
       "      <td>96.58</td>\n",
       "      <td>2.0</td>\n",
       "      <td>9.658</td>\n",
       "      <td>202.818</td>\n",
       "      <td>3/15/19</td>\n",
       "      <td>10:12</td>\n",
       "      <td>Credit card</td>\n",
       "      <td>193.16</td>\n",
       "      <td>4.761905</td>\n",
       "      <td>9.658</td>\n",
       "      <td>5.1</td>\n",
       "    </tr>\n",
       "    <tr>\n",
       "      <th>2</th>\n",
       "      <td>183-56-6882</td>\n",
       "      <td>C</td>\n",
       "      <td>Naypyitaw</td>\n",
       "      <td>NaN</td>\n",
       "      <td>Female</td>\n",
       "      <td>Food and beverages</td>\n",
       "      <td>99.42</td>\n",
       "      <td>4.0</td>\n",
       "      <td>19.884</td>\n",
       "      <td>417.564</td>\n",
       "      <td>2/6/19</td>\n",
       "      <td>10:42</td>\n",
       "      <td>Ewallet</td>\n",
       "      <td>397.68</td>\n",
       "      <td>4.761905</td>\n",
       "      <td>19.884</td>\n",
       "      <td>7.5</td>\n",
       "    </tr>\n",
       "    <tr>\n",
       "      <th>3</th>\n",
       "      <td>232-16-2483</td>\n",
       "      <td>C</td>\n",
       "      <td>Naypyitaw</td>\n",
       "      <td>NaN</td>\n",
       "      <td>Female</td>\n",
       "      <td>Sports and travel</td>\n",
       "      <td>68.12</td>\n",
       "      <td>1.0</td>\n",
       "      <td>3.406</td>\n",
       "      <td>71.526</td>\n",
       "      <td>1/7/19</td>\n",
       "      <td>12:28</td>\n",
       "      <td>Ewallet</td>\n",
       "      <td>68.12</td>\n",
       "      <td>4.761905</td>\n",
       "      <td>3.406</td>\n",
       "      <td>6.8</td>\n",
       "    </tr>\n",
       "    <tr>\n",
       "      <th>4</th>\n",
       "      <td>129-29-8530</td>\n",
       "      <td>A</td>\n",
       "      <td>Yangon</td>\n",
       "      <td>NaN</td>\n",
       "      <td>Male</td>\n",
       "      <td>Sports and travel</td>\n",
       "      <td>62.62</td>\n",
       "      <td>5.0</td>\n",
       "      <td>15.655</td>\n",
       "      <td>328.755</td>\n",
       "      <td>3/10/19</td>\n",
       "      <td>19:15</td>\n",
       "      <td>Ewallet</td>\n",
       "      <td>313.10</td>\n",
       "      <td>4.761905</td>\n",
       "      <td>15.655</td>\n",
       "      <td>7.0</td>\n",
       "    </tr>\n",
       "  </tbody>\n",
       "</table>\n",
       "</div>"
      ],
      "text/plain": [
       "   149-71-6266  B   Mandalay  Member    Male   Sports and travel  78.07    9  \\\n",
       "0  640-49-2076  B   Mandalay  Normal    Male   Sports and travel  83.78  8.0   \n",
       "1  595-11-5460  A     Yangon     NaN    Male   Health and beauty  96.58  2.0   \n",
       "2  183-56-6882  C  Naypyitaw     NaN  Female  Food and beverages  99.42  4.0   \n",
       "3  232-16-2483  C  Naypyitaw     NaN  Female   Sports and travel  68.12  1.0   \n",
       "4  129-29-8530  A     Yangon     NaN    Male   Sports and travel  62.62  5.0   \n",
       "\n",
       "   35.1315  737.7615  1/28/19  12:43         Cash  702.63  4.761904762  \\\n",
       "0   33.512   703.752  1/10/19  14:49         Cash  670.24     4.761905   \n",
       "1    9.658   202.818  3/15/19  10:12  Credit card  193.16     4.761905   \n",
       "2   19.884   417.564   2/6/19  10:42      Ewallet  397.68     4.761905   \n",
       "3    3.406    71.526   1/7/19  12:28      Ewallet   68.12     4.761905   \n",
       "4   15.655   328.755  3/10/19  19:15      Ewallet  313.10     4.761905   \n",
       "\n",
       "   35.1315.1  4.5  \n",
       "0     33.512  5.1  \n",
       "1      9.658  5.1  \n",
       "2     19.884  7.5  \n",
       "3      3.406  6.8  \n",
       "4     15.655  7.0  "
      ]
     },
     "execution_count": 9,
     "metadata": {},
     "output_type": "execute_result"
    }
   ],
   "source": [
    "df.head()"
   ]
  },
  {
   "cell_type": "markdown",
   "metadata": {},
   "source": [
    " "
   ]
  },
  {
   "cell_type": "code",
   "execution_count": 5,
   "metadata": {},
   "outputs": [
    {
     "data": {
      "text/plain": [
       "Index(['149-71-6266', 'B', 'Mandalay', 'Member', 'Male', 'Sports and travel',\n",
       "       '78.07', '9', '35.1315', '737.7615', '1/28/19', '12:43', 'Cash',\n",
       "       '702.63', '4.761904762', '35.1315.1', '4.5'],\n",
       "      dtype='object')"
      ]
     },
     "execution_count": 5,
     "metadata": {},
     "output_type": "execute_result"
    }
   ],
   "source": [
    "df.columns"
   ]
  },
  {
   "cell_type": "code",
   "execution_count": 6,
   "metadata": {},
   "outputs": [
    {
     "data": {
      "text/plain": [
       "149-71-6266           object\n",
       "B                     object\n",
       "Mandalay              object\n",
       "Member                object\n",
       "Male                  object\n",
       "Sports and travel     object\n",
       "78.07                float64\n",
       "9                    float64\n",
       "35.1315              float64\n",
       "737.7615             float64\n",
       "1/28/19               object\n",
       "12:43                 object\n",
       "Cash                  object\n",
       "702.63               float64\n",
       "4.761904762          float64\n",
       "35.1315.1            float64\n",
       "4.5                  float64\n",
       "dtype: object"
      ]
     },
     "execution_count": 6,
     "metadata": {},
     "output_type": "execute_result"
    }
   ],
   "source": [
    "df.dtypes"
   ]
  },
  {
   "cell_type": "code",
   "execution_count": null,
   "metadata": {},
   "outputs": [],
   "source": [
    "df['Date']= pd.to_datetime(df['Date'])"
   ]
  },
  {
   "cell_type": "code",
   "execution_count": null,
   "metadata": {},
   "outputs": [],
   "source": [
    "df.set_index('Date', inplace=True)"
   ]
  },
  {
   "cell_type": "code",
   "execution_count": 12,
   "metadata": {},
   "outputs": [
    {
     "data": {
      "text/html": [
       "<div>\n",
       "<style scoped>\n",
       "    .dataframe tbody tr th:only-of-type {\n",
       "        vertical-align: middle;\n",
       "    }\n",
       "\n",
       "    .dataframe tbody tr th {\n",
       "        vertical-align: top;\n",
       "    }\n",
       "\n",
       "    .dataframe thead th {\n",
       "        text-align: right;\n",
       "    }\n",
       "</style>\n",
       "<table border=\"1\" class=\"dataframe\">\n",
       "  <thead>\n",
       "    <tr style=\"text-align: right;\">\n",
       "      <th></th>\n",
       "      <th>Invoice ID</th>\n",
       "      <th>Branch</th>\n",
       "      <th>City</th>\n",
       "      <th>Customer type</th>\n",
       "      <th>Gender</th>\n",
       "      <th>Product line</th>\n",
       "      <th>Unit price</th>\n",
       "      <th>Quantity</th>\n",
       "      <th>Tax 5%</th>\n",
       "      <th>Total</th>\n",
       "      <th>Time</th>\n",
       "      <th>Payment</th>\n",
       "      <th>cogs</th>\n",
       "      <th>gross margin percentage</th>\n",
       "      <th>gross income</th>\n",
       "      <th>Rating</th>\n",
       "    </tr>\n",
       "    <tr>\n",
       "      <th>Date</th>\n",
       "      <th></th>\n",
       "      <th></th>\n",
       "      <th></th>\n",
       "      <th></th>\n",
       "      <th></th>\n",
       "      <th></th>\n",
       "      <th></th>\n",
       "      <th></th>\n",
       "      <th></th>\n",
       "      <th></th>\n",
       "      <th></th>\n",
       "      <th></th>\n",
       "      <th></th>\n",
       "      <th></th>\n",
       "      <th></th>\n",
       "      <th></th>\n",
       "    </tr>\n",
       "  </thead>\n",
       "  <tbody>\n",
       "    <tr>\n",
       "      <th>2019-01-05</th>\n",
       "      <td>750-67-8428</td>\n",
       "      <td>A</td>\n",
       "      <td>Yangon</td>\n",
       "      <td>Member</td>\n",
       "      <td>Female</td>\n",
       "      <td>Health and beauty</td>\n",
       "      <td>74.69</td>\n",
       "      <td>7.0</td>\n",
       "      <td>26.1415</td>\n",
       "      <td>548.9715</td>\n",
       "      <td>13:08</td>\n",
       "      <td>Ewallet</td>\n",
       "      <td>522.83</td>\n",
       "      <td>4.761905</td>\n",
       "      <td>26.1415</td>\n",
       "      <td>9.1</td>\n",
       "    </tr>\n",
       "    <tr>\n",
       "      <th>2019-03-08</th>\n",
       "      <td>226-31-3081</td>\n",
       "      <td>C</td>\n",
       "      <td>Naypyitaw</td>\n",
       "      <td>Normal</td>\n",
       "      <td>Female</td>\n",
       "      <td>Electronic accessories</td>\n",
       "      <td>15.28</td>\n",
       "      <td>5.0</td>\n",
       "      <td>3.8200</td>\n",
       "      <td>80.2200</td>\n",
       "      <td>10:29</td>\n",
       "      <td>Cash</td>\n",
       "      <td>76.40</td>\n",
       "      <td>4.761905</td>\n",
       "      <td>3.8200</td>\n",
       "      <td>9.6</td>\n",
       "    </tr>\n",
       "    <tr>\n",
       "      <th>2019-03-03</th>\n",
       "      <td>631-41-3108</td>\n",
       "      <td>A</td>\n",
       "      <td>Yangon</td>\n",
       "      <td>Normal</td>\n",
       "      <td>Male</td>\n",
       "      <td>Home and lifestyle</td>\n",
       "      <td>46.33</td>\n",
       "      <td>7.0</td>\n",
       "      <td>16.2155</td>\n",
       "      <td>340.5255</td>\n",
       "      <td>13:23</td>\n",
       "      <td>Credit card</td>\n",
       "      <td>324.31</td>\n",
       "      <td>4.761905</td>\n",
       "      <td>16.2155</td>\n",
       "      <td>7.4</td>\n",
       "    </tr>\n",
       "    <tr>\n",
       "      <th>2019-01-27</th>\n",
       "      <td>123-19-1176</td>\n",
       "      <td>A</td>\n",
       "      <td>Yangon</td>\n",
       "      <td>Member</td>\n",
       "      <td>Male</td>\n",
       "      <td>Health and beauty</td>\n",
       "      <td>58.22</td>\n",
       "      <td>8.0</td>\n",
       "      <td>23.2880</td>\n",
       "      <td>489.0480</td>\n",
       "      <td>20:33</td>\n",
       "      <td>Ewallet</td>\n",
       "      <td>465.76</td>\n",
       "      <td>4.761905</td>\n",
       "      <td>23.2880</td>\n",
       "      <td>8.4</td>\n",
       "    </tr>\n",
       "    <tr>\n",
       "      <th>2019-02-08</th>\n",
       "      <td>373-73-7910</td>\n",
       "      <td>A</td>\n",
       "      <td>Yangon</td>\n",
       "      <td>Normal</td>\n",
       "      <td>Male</td>\n",
       "      <td>Sports and travel</td>\n",
       "      <td>86.31</td>\n",
       "      <td>7.0</td>\n",
       "      <td>30.2085</td>\n",
       "      <td>634.3785</td>\n",
       "      <td>10:37</td>\n",
       "      <td>Ewallet</td>\n",
       "      <td>604.17</td>\n",
       "      <td>4.761905</td>\n",
       "      <td>30.2085</td>\n",
       "      <td>5.3</td>\n",
       "    </tr>\n",
       "  </tbody>\n",
       "</table>\n",
       "</div>"
      ],
      "text/plain": [
       "             Invoice ID Branch       City Customer type  Gender  \\\n",
       "Date                                                              \n",
       "2019-01-05  750-67-8428      A     Yangon        Member  Female   \n",
       "2019-03-08  226-31-3081      C  Naypyitaw        Normal  Female   \n",
       "2019-03-03  631-41-3108      A     Yangon        Normal    Male   \n",
       "2019-01-27  123-19-1176      A     Yangon        Member    Male   \n",
       "2019-02-08  373-73-7910      A     Yangon        Normal    Male   \n",
       "\n",
       "                      Product line  Unit price  Quantity   Tax 5%     Total  \\\n",
       "Date                                                                          \n",
       "2019-01-05       Health and beauty       74.69       7.0  26.1415  548.9715   \n",
       "2019-03-08  Electronic accessories       15.28       5.0   3.8200   80.2200   \n",
       "2019-03-03      Home and lifestyle       46.33       7.0  16.2155  340.5255   \n",
       "2019-01-27       Health and beauty       58.22       8.0  23.2880  489.0480   \n",
       "2019-02-08       Sports and travel       86.31       7.0  30.2085  634.3785   \n",
       "\n",
       "             Time      Payment    cogs  gross margin percentage  gross income  \\\n",
       "Date                                                                            \n",
       "2019-01-05  13:08      Ewallet  522.83                 4.761905       26.1415   \n",
       "2019-03-08  10:29         Cash   76.40                 4.761905        3.8200   \n",
       "2019-03-03  13:23  Credit card  324.31                 4.761905       16.2155   \n",
       "2019-01-27  20:33      Ewallet  465.76                 4.761905       23.2880   \n",
       "2019-02-08  10:37      Ewallet  604.17                 4.761905       30.2085   \n",
       "\n",
       "            Rating  \n",
       "Date                \n",
       "2019-01-05     9.1  \n",
       "2019-03-08     9.6  \n",
       "2019-03-03     7.4  \n",
       "2019-01-27     8.4  \n",
       "2019-02-08     5.3  "
      ]
     },
     "execution_count": 12,
     "metadata": {},
     "output_type": "execute_result"
    }
   ],
   "source": [
    "df.head()"
   ]
  },
  {
   "cell_type": "code",
   "execution_count": null,
   "metadata": {},
   "outputs": [],
   "source": [
    "df.describe().T\n"
   ]
  },
  {
   "cell_type": "markdown",
   "metadata": {},
   "source": [
    "### Task 2: Univariate Analysis"
   ]
  },
  {
   "cell_type": "markdown",
   "metadata": {},
   "source": [
    "**Question 1:** What does the distribution of customer ratings looks like? Is it skewed?"
   ]
  },
  {
   "cell_type": "code",
   "execution_count": null,
   "metadata": {
    "scrolled": true
   },
   "outputs": [],
   "source": [
    "sns.distplot(df['Rating'])\n",
    "plt.axvline(x=np.mean(df['Rating']))\n"
   ]
  },
  {
   "cell_type": "markdown",
   "metadata": {},
   "source": [
    "**Question 2:** Do aggregate sales numbers differ by much between branches?"
   ]
  },
  {
   "cell_type": "code",
   "execution_count": null,
   "metadata": {},
   "outputs": [],
   "source": []
  },
  {
   "cell_type": "markdown",
   "metadata": {},
   "source": [
    "  "
   ]
  },
  {
   "cell_type": "markdown",
   "metadata": {},
   "source": [
    "### Task 3: Bivariate Analysis"
   ]
  },
  {
   "cell_type": "markdown",
   "metadata": {},
   "source": [
    "**Question 3:** Is there a relationship between gross income and customer ratings?"
   ]
  },
  {
   "cell_type": "code",
   "execution_count": null,
   "metadata": {},
   "outputs": [],
   "source": []
  },
  {
   "cell_type": "markdown",
   "metadata": {},
   "source": [
    "**Question 4:** Is there a noticeable time trend in gross income?"
   ]
  },
  {
   "cell_type": "code",
   "execution_count": null,
   "metadata": {},
   "outputs": [],
   "source": []
  },
  {
   "cell_type": "markdown",
   "metadata": {},
   "source": [
    " "
   ]
  },
  {
   "cell_type": "markdown",
   "metadata": {},
   "source": [
    "### Task 4: Dealing With Duplicate Rows and Missing Values"
   ]
  },
  {
   "cell_type": "code",
   "execution_count": null,
   "metadata": {},
   "outputs": [],
   "source": []
  },
  {
   "cell_type": "code",
   "execution_count": null,
   "metadata": {},
   "outputs": [],
   "source": []
  },
  {
   "cell_type": "markdown",
   "metadata": {},
   "source": [
    " "
   ]
  },
  {
   "cell_type": "markdown",
   "metadata": {},
   "source": [
    "### Task 5: Correlation Analysis"
   ]
  },
  {
   "cell_type": "code",
   "execution_count": null,
   "metadata": {},
   "outputs": [],
   "source": []
  },
  {
   "cell_type": "code",
   "execution_count": null,
   "metadata": {},
   "outputs": [],
   "source": []
  },
  {
   "cell_type": "markdown",
   "metadata": {},
   "source": [
    "### Helpful Links"
   ]
  },
  {
   "cell_type": "markdown",
   "metadata": {},
   "source": [
    "1. More visualizations: https://www.data-to-viz.com/\n",
    "2. Seaborn gallery: https://seaborn.pydata.org/examples/index.html\n",
    "3. Pandas profiling documentation: https://pypi.org/project/pandas-profiling/"
   ]
  }
 ],
 "metadata": {
  "kernelspec": {
   "display_name": "Python 3.10.2 64-bit",
   "language": "python",
   "name": "python3"
  },
  "language_info": {
   "codemirror_mode": {
    "name": "ipython",
    "version": 3
   },
   "file_extension": ".py",
   "mimetype": "text/x-python",
   "name": "python",
   "nbconvert_exporter": "python",
   "pygments_lexer": "ipython3",
   "version": "3.10.2"
  },
  "vscode": {
   "interpreter": {
    "hash": "98584c38ed116f8b73e30908de65f58faa33dc16850ade785a44bbf161aefee9"
   }
  }
 },
 "nbformat": 4,
 "nbformat_minor": 4
}
